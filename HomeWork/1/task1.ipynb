{
  "metadata": {
    "language_info": {
      "codemirror_mode": {
        "name": "python",
        "version": 3
      },
      "file_extension": ".py",
      "mimetype": "text/x-python",
      "name": "python",
      "nbconvert_exporter": "python",
      "pygments_lexer": "ipython3",
      "version": "3.8"
    },
    "kernelspec": {
      "name": "python",
      "display_name": "Pyolite",
      "language": "python"
    }
  },
  "nbformat_minor": 4,
  "nbformat": 4,
  "cells": [
    {
      "cell_type": "code",
      "source": "import random\nimport time\nimport numpy as np\ndef timer(func, *args, **kwargs):\n    def wrapper(*args, **kwargs):\n        before = time.perf_counter()\n        response = func(*args)\n        after = time.perf_counter()\n        print(f\"Function has been running for {after - before} seconds.\")\n        return response, after - before\n    return wrapper\n@timer\ndef multiply_matrix(A, B):\n    n = len(A)\n    m = len(B)\n    B_Transformed = [[B[i][j] for i in range(m)] for j in range(n)]\n    M = [[vector_scalar(row, column) for column in B_Transformed] for row in A]\n    return M\ndef vector_scalar(a, b):\n    S = 0\n    for el1, el2 in zip(a, b):\n        S += el1 * el2\n    return S\n@timer\ndef multiply_matrix_np(A, B):\n    A = np.array(A)\n    B = np.array(B)\n    M = A.dot(B)\n    return M\nn = 100\nm = 100\nA = [[random.random() for i in range(m)] for i in range(n)]\nB = [[random.random() for i in range(m)] for i in range(n)]\nM_np, time_np = multiply_matrix_np(A, B)\nM, time = multiply_matrix(A, B)\nprint(\"Difference: {}.\".format(time-time_np))",
      "metadata": {
        "trusted": true
      },
      "execution_count": 3,
      "outputs": [
        {
          "name": "stdout",
          "text": "Function has been running for 0.009900000000016007 seconds.\nFunction has been running for 0.19709999999986394 seconds.\nDifference: 0.18719999999984793.\n",
          "output_type": "stream"
        }
      ]
    },
    {
      "cell_type": "code",
      "source": "",
      "metadata": {},
      "execution_count": null,
      "outputs": []
    }
  ]
}